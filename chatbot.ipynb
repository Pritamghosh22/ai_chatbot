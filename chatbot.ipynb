{
  "nbformat": 4,
  "nbformat_minor": 0,
  "metadata": {
    "colab": {
      "provenance": []
    },
    "kernelspec": {
      "name": "python3",
      "display_name": "Python 3"
    },
    "language_info": {
      "name": "python"
    }
  },
  "cells": [
    {
      "cell_type": "code",
      "execution_count": 1,
      "metadata": {
        "colab": {
          "base_uri": "https://localhost:8080/",
          "height": 1000
        },
        "id": "SxKO3PKjum-6",
        "outputId": "0aff018a-c8de-492b-bf9c-cfbe33640c62"
      },
      "outputs": [
        {
          "output_type": "stream",
          "name": "stderr",
          "text": [
            "/usr/local/lib/python3.12/dist-packages/gradio/chat_interface.py:345: UserWarning: The 'tuples' format for chatbot messages is deprecated and will be removed in a future version of Gradio. Please set type='messages' instead, which uses openai-style 'role' and 'content' keys.\n",
            "  self.chatbot = Chatbot(\n"
          ]
        },
        {
          "output_type": "stream",
          "name": "stdout",
          "text": [
            "It looks like you are running Gradio on a hosted Jupyter notebook, which requires `share=True`. Automatically setting `share=True` (you can turn this off by setting `share=False` in `launch()` explicitly).\n",
            "\n",
            "Colab notebook detected. To show errors in colab notebook, set debug=True in launch()\n",
            "* Running on public URL: https://e6d1772395a3a93154.gradio.live\n",
            "\n",
            "This share link expires in 1 week. For free permanent hosting and GPU upgrades, run `gradio deploy` from the terminal in the working directory to deploy to Hugging Face Spaces (https://huggingface.co/spaces)\n"
          ]
        },
        {
          "output_type": "display_data",
          "data": {
            "text/plain": [
              "<IPython.core.display.HTML object>"
            ],
            "text/html": [
              "<div><iframe src=\"https://e6d1772395a3a93154.gradio.live\" width=\"100%\" height=\"500\" allow=\"autoplay; camera; microphone; clipboard-read; clipboard-write;\" frameborder=\"0\" allowfullscreen></iframe></div>"
            ]
          },
          "metadata": {}
        },
        {
          "output_type": "stream",
          "name": "stdout",
          "text": [
            "Rerunning server... use `close()` to stop if you need to change `launch()` parameters.\n",
            "----\n",
            "Colab notebook detected. To show errors in colab notebook, set debug=True in launch()\n",
            "* Running on public URL: https://e6d1772395a3a93154.gradio.live\n",
            "\n",
            "This share link expires in 1 week. For free permanent hosting and GPU upgrades, run `gradio deploy` from the terminal in the working directory to deploy to Hugging Face Spaces (https://huggingface.co/spaces)\n"
          ]
        },
        {
          "output_type": "display_data",
          "data": {
            "text/plain": [
              "<IPython.core.display.HTML object>"
            ],
            "text/html": [
              "<div><iframe src=\"https://e6d1772395a3a93154.gradio.live\" width=\"100%\" height=\"500\" allow=\"autoplay; camera; microphone; clipboard-read; clipboard-write;\" frameborder=\"0\" allowfullscreen></iframe></div>"
            ]
          },
          "metadata": {}
        },
        {
          "output_type": "execute_result",
          "data": {
            "text/plain": []
          },
          "metadata": {},
          "execution_count": 1
        }
      ],
      "source": [
        "import random\n",
        "import re\n",
        "import gradio as gr\n",
        "\n",
        "class LifeBot:\n",
        "    negative_res = (\"no\", \"nope\", \"nah\", \"naw\", \"not a chance\", \"sorry\")\n",
        "    exit_commands = (\"quit\", \"pause\", \"exit\", \"goodbye\", \"bye\", \"later\")\n",
        "\n",
        "    random_question = (\n",
        "        \"Are you feeling okay today?\",\n",
        "        \"Did you eat your food on time?\",\n",
        "        \"Have you taken enough rest?\",\n",
        "        \"Did you drink enough water today?\",\n",
        "        \"Are you feeling happy right now?\"\n",
        "    )\n",
        "\n",
        "    def __init__(self):\n",
        "        self.name = None\n",
        "        self.started = False\n",
        "        self.life_patterns = {\n",
        "            'feeling_intent': r'.*\\s*(sad|happy|ok|fine|not well).*',\n",
        "            'food_intent': r'.*\\s*(food|eat|meal|hungry).*',\n",
        "            'sleep_intent': r'.*\\s*(sleep|rest|tired).*',\n",
        "            'water_intent': r'.*\\s*(drink|water|thirsty).*'\n",
        "        }\n",
        "\n",
        "    def greet(self, message):\n",
        "        if not self.started:\n",
        "            self.started = True\n",
        "            self.name = message.strip().title() if message.strip() else \"Friend\"\n",
        "            return f\"Hi {self.name}, I'm LifeBot. Can I ask you about your day?\"\n",
        "        else:\n",
        "            if message.lower() in self.negative_res:\n",
        "                return \"Okay, take care and have a good day!\"\n",
        "            return random.choice(self.random_question)\n",
        "\n",
        "    def make_exit(self, reply):\n",
        "        for command in self.exit_commands:\n",
        "            if reply.lower() == command:\n",
        "                return True\n",
        "        return False\n",
        "\n",
        "    def match_reply(self, reply):\n",
        "        for intent, regex_pattern in self.life_patterns.items():\n",
        "            found_match = re.match(regex_pattern, reply.lower())\n",
        "            if found_match and intent == 'feeling_intent':\n",
        "                return self.feeling_response()\n",
        "            elif found_match and intent == 'food_intent':\n",
        "                return self.food_response()\n",
        "            elif found_match and intent == 'sleep_intent':\n",
        "                return self.sleep_response()\n",
        "            elif found_match and intent == 'water_intent':\n",
        "                return self.water_response()\n",
        "        return self.no_match_intent()\n",
        "\n",
        "    def feeling_response(self):\n",
        "        responses = (\n",
        "            f\"I'm glad to hear how you feel, {self.name}.\",\n",
        "            \"Your feelings matter. Do you want to share more?\",\n",
        "            \"I care about your emotions.\"\n",
        "        )\n",
        "        return random.choice(responses)\n",
        "\n",
        "    def food_response(self):\n",
        "        responses = (\n",
        "            \"Eating on time keeps you strong.\",\n",
        "            \"Food is important, don't skip meals.\",\n",
        "            \"I hope you had something healthy today.\"\n",
        "        )\n",
        "        return random.choice(responses)\n",
        "\n",
        "    def sleep_response(self):\n",
        "        responses = (\n",
        "            \"Rest is important, don't forget to sleep well.\",\n",
        "            \"Sleep recharges your mind and body.\",\n",
        "            \"A short nap can also help if you're tired.\"\n",
        "        )\n",
        "        return random.choice(responses)\n",
        "\n",
        "    def water_response(self):\n",
        "        responses = (\n",
        "            \"Water keeps you refreshed, drink enough.\",\n",
        "            \"Staying hydrated is key to good health.\",\n",
        "            \"Maybe have a glass of water right now?\"\n",
        "        )\n",
        "        return random.choice(responses)\n",
        "\n",
        "    def no_match_intent(self):\n",
        "        responses = (\n",
        "            \"Tell me more about your day.\",\n",
        "            \"I'm listening, go on.\",\n",
        "            \"That's interesting, share more with me.\",\n",
        "            \"Hmm, can you explain more?\"\n",
        "        )\n",
        "        return random.choice(responses)\n",
        "\n",
        "\n",
        "# Gradio wrapper\n",
        "bot = LifeBot()\n",
        "\n",
        "def chatbot_response(message, history):\n",
        "    # First time greeting: ask for name\n",
        "    if bot.name is None:\n",
        "        return bot.greet(message)\n",
        "\n",
        "    # Exit condition\n",
        "    if bot.make_exit(message):\n",
        "        return \"Goodbye! Stay healthy and take care.\"\n",
        "\n",
        "    # Normal conversation\n",
        "    return bot.match_reply(message)\n",
        "\n",
        "\n",
        "demo = gr.ChatInterface(fn=chatbot_response, title=\"💬 LifeBot\", description=\"A friendly chatbot that cares about your health and daily habits.\")\n",
        "\n",
        "if __name__ == \"__main__\":\n",
        "    demo.launch()\n",
        "demo.launch(share=True)\n"
      ]
    }
  ]
}